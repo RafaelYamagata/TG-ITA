{
 "cells": [
  {
   "cell_type": "code",
   "execution_count": 1,
   "metadata": {
    "collapsed": true
   },
   "outputs": [],
   "source": [
    "import pandas as pd\n",
    "import numpy as np"
   ]
  },
  {
   "cell_type": "code",
   "execution_count": 11,
   "metadata": {},
   "outputs": [
    {
     "name": "stderr",
     "output_type": "stream",
     "text": [
      "Skipping line 330: ',' expected after '\"'\n",
      "Skipping line 667: ',' expected after '\"'\n",
      "Skipping line 1311: ',' expected after '\"'\n",
      "Skipping line 1464: ',' expected after '\"'\n",
      "Skipping line 1465: ',' expected after '\"'\n",
      "Skipping line 2683: ',' expected after '\"'\n"
     ]
    }
   ],
   "source": [
    "aerodromes = pd.read_csv('../aerodrome.csv', header=0, engine='python', encoding='utf-8')\n",
    "full_aerodromes = pd.read_csv('../full_aerodrome.csv', engine='python', encoding='utf-8', error_bad_lines=False)"
   ]
  },
  {
   "cell_type": "code",
   "execution_count": 15,
   "metadata": {},
   "outputs": [
    {
     "data": {
      "text/html": [
       "<div>\n",
       "<style>\n",
       "    .dataframe thead tr:only-child th {\n",
       "        text-align: right;\n",
       "    }\n",
       "\n",
       "    .dataframe thead th {\n",
       "        text-align: left;\n",
       "    }\n",
       "\n",
       "    .dataframe tbody tr th {\n",
       "        vertical-align: top;\n",
       "    }\n",
       "</style>\n",
       "<table border=\"1\" class=\"dataframe\">\n",
       "  <thead>\n",
       "    <tr style=\"text-align: right;\">\n",
       "      <th></th>\n",
       "      <th>Sigla</th>\n",
       "      <th>Latitude</th>\n",
       "      <th>Longitude</th>\n",
       "    </tr>\n",
       "  </thead>\n",
       "  <tbody>\n",
       "    <tr>\n",
       "      <th>0</th>\n",
       "      <td>AYGA</td>\n",
       "      <td>-6.081690</td>\n",
       "      <td>145.391998</td>\n",
       "    </tr>\n",
       "    <tr>\n",
       "      <th>1</th>\n",
       "      <td>AYMD</td>\n",
       "      <td>-5.207080</td>\n",
       "      <td>145.789001</td>\n",
       "    </tr>\n",
       "    <tr>\n",
       "      <th>2</th>\n",
       "      <td>AYMH</td>\n",
       "      <td>-5.826790</td>\n",
       "      <td>144.296005</td>\n",
       "    </tr>\n",
       "    <tr>\n",
       "      <th>3</th>\n",
       "      <td>AYNZ</td>\n",
       "      <td>-6.569803</td>\n",
       "      <td>146.725977</td>\n",
       "    </tr>\n",
       "    <tr>\n",
       "      <th>4</th>\n",
       "      <td>AYPY</td>\n",
       "      <td>-9.443380</td>\n",
       "      <td>147.220001</td>\n",
       "    </tr>\n",
       "  </tbody>\n",
       "</table>\n",
       "</div>"
      ],
      "text/plain": [
       "  Sigla  Latitude   Longitude\n",
       "0  AYGA -6.081690  145.391998\n",
       "1  AYMD -5.207080  145.789001\n",
       "2  AYMH -5.826790  144.296005\n",
       "3  AYNZ -6.569803  146.725977\n",
       "4  AYPY -9.443380  147.220001"
      ]
     },
     "execution_count": 15,
     "metadata": {},
     "output_type": "execute_result"
    }
   ],
   "source": [
    "full_aerodromes_short = full_aerodromes[['Sigla', 'Latitude', 'Longitude']]\n",
    "full_aerodromes_short.head()"
   ]
  },
  {
   "cell_type": "code",
   "execution_count": 18,
   "metadata": {},
   "outputs": [
    {
     "data": {
      "text/html": [
       "<div>\n",
       "<style>\n",
       "    .dataframe thead tr:only-child th {\n",
       "        text-align: right;\n",
       "    }\n",
       "\n",
       "    .dataframe thead th {\n",
       "        text-align: left;\n",
       "    }\n",
       "\n",
       "    .dataframe tbody tr th {\n",
       "        vertical-align: top;\n",
       "    }\n",
       "</style>\n",
       "<table border=\"1\" class=\"dataframe\">\n",
       "  <thead>\n",
       "    <tr style=\"text-align: right;\">\n",
       "      <th></th>\n",
       "      <th>Sigla</th>\n",
       "      <th>Nome</th>\n",
       "      <th>Pais</th>\n",
       "      <th>Continente</th>\n",
       "      <th>Latitude</th>\n",
       "      <th>Longitude</th>\n",
       "    </tr>\n",
       "  </thead>\n",
       "  <tbody>\n",
       "    <tr>\n",
       "      <th>0</th>\n",
       "      <td>KDFW</td>\n",
       "      <td>DALLAS/FORT WORTH</td>\n",
       "      <td>ESTADOS UNIDOS</td>\n",
       "      <td>AMÉRICA DO NORTE</td>\n",
       "      <td>32.896801</td>\n",
       "      <td>-97.038002</td>\n",
       "    </tr>\n",
       "    <tr>\n",
       "      <th>1</th>\n",
       "      <td>KJFK</td>\n",
       "      <td>NEW YORK</td>\n",
       "      <td>ESTADOS UNIDOS</td>\n",
       "      <td>AMÉRICA DO NORTE</td>\n",
       "      <td>40.639801</td>\n",
       "      <td>-73.778900</td>\n",
       "    </tr>\n",
       "    <tr>\n",
       "      <th>2</th>\n",
       "      <td>KMIA</td>\n",
       "      <td>MIAMI</td>\n",
       "      <td>ESTADOS UNIDOS</td>\n",
       "      <td>AMÉRICA DO NORTE</td>\n",
       "      <td>25.793200</td>\n",
       "      <td>-80.290604</td>\n",
       "    </tr>\n",
       "    <tr>\n",
       "      <th>3</th>\n",
       "      <td>SBCF</td>\n",
       "      <td>BELO HORIZONTE - CONFINS</td>\n",
       "      <td>BRASIL</td>\n",
       "      <td>AMÉRICA DO SUL</td>\n",
       "      <td>-19.624443</td>\n",
       "      <td>-43.971943</td>\n",
       "    </tr>\n",
       "    <tr>\n",
       "      <th>4</th>\n",
       "      <td>SBGL</td>\n",
       "      <td>RIO DE JANEIRO - GALEÃO</td>\n",
       "      <td>BRASIL</td>\n",
       "      <td>AMÉRICA DO SUL</td>\n",
       "      <td>-22.809999</td>\n",
       "      <td>-43.250557</td>\n",
       "    </tr>\n",
       "  </tbody>\n",
       "</table>\n",
       "</div>"
      ],
      "text/plain": [
       "  Sigla                      Nome            Pais        Continente  \\\n",
       "0  KDFW         DALLAS/FORT WORTH  ESTADOS UNIDOS  AMÉRICA DO NORTE   \n",
       "1  KJFK                  NEW YORK  ESTADOS UNIDOS  AMÉRICA DO NORTE   \n",
       "2  KMIA                     MIAMI  ESTADOS UNIDOS  AMÉRICA DO NORTE   \n",
       "3  SBCF  BELO HORIZONTE - CONFINS          BRASIL    AMÉRICA DO SUL   \n",
       "4  SBGL   RIO DE JANEIRO - GALEÃO          BRASIL    AMÉRICA DO SUL   \n",
       "\n",
       "    Latitude  Longitude  \n",
       "0  32.896801 -97.038002  \n",
       "1  40.639801 -73.778900  \n",
       "2  25.793200 -80.290604  \n",
       "3 -19.624443 -43.971943  \n",
       "4 -22.809999 -43.250557  "
      ]
     },
     "execution_count": 18,
     "metadata": {},
     "output_type": "execute_result"
    }
   ],
   "source": [
    "aerodromes_coordinates = aerodromes.join(full_aerodromes_short.set_index('Sigla'), on='Sigla')\n",
    "aerodromes_coordinates.head()"
   ]
  },
  {
   "cell_type": "code",
   "execution_count": 19,
   "metadata": {
    "collapsed": true
   },
   "outputs": [],
   "source": [
    "aerodromes_coordinates.to_csv('../aerodromes_coordinates.csv', header=1, index=False, encoding='utf-8')"
   ]
  }
 ],
 "metadata": {
  "kernelspec": {
   "display_name": "Python 3",
   "language": "python",
   "name": "python3"
  },
  "language_info": {
   "codemirror_mode": {
    "name": "ipython",
    "version": 3
   },
   "file_extension": ".py",
   "mimetype": "text/x-python",
   "name": "python",
   "nbconvert_exporter": "python",
   "pygments_lexer": "ipython3",
   "version": "3.6.1"
  }
 },
 "nbformat": 4,
 "nbformat_minor": 2
}
