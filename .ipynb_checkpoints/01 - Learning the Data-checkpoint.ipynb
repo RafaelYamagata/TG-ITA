{
 "cells": [
  {
   "cell_type": "code",
   "execution_count": 1,
   "metadata": {
    "collapsed": true
   },
   "outputs": [],
   "source": [
    "# Imports\n",
    "import pandas as pd\n",
    "import numpy as np\n",
    "import matplotlib.pyplot as plt\n",
    "import seaborn as sns"
   ]
  },
  {
   "cell_type": "code",
   "execution_count": 2,
   "metadata": {
    "collapsed": true
   },
   "outputs": [],
   "source": [
    "# Loading the dataframe\n",
    "flights = pd.read_csv('../flights_prepared.csv', header=0, engine='python', encoding='utf-8')"
   ]
  },
  {
   "cell_type": "code",
   "execution_count": 3,
   "metadata": {},
   "outputs": [
    {
     "data": {
      "text/html": [
       "<div>\n",
       "<style>\n",
       "    .dataframe thead tr:only-child th {\n",
       "        text-align: right;\n",
       "    }\n",
       "\n",
       "    .dataframe thead th {\n",
       "        text-align: left;\n",
       "    }\n",
       "\n",
       "    .dataframe tbody tr th {\n",
       "        vertical-align: top;\n",
       "    }\n",
       "</style>\n",
       "<table border=\"1\" class=\"dataframe\">\n",
       "  <thead>\n",
       "    <tr style=\"text-align: right;\">\n",
       "      <th></th>\n",
       "      <th>Empresa</th>\n",
       "      <th>Ano</th>\n",
       "      <th>Mes</th>\n",
       "      <th>Aeroporto Origem</th>\n",
       "      <th>Aeroporto Origem Pais</th>\n",
       "      <th>Aeroporto Origem Continente</th>\n",
       "      <th>Aeroporto Destino</th>\n",
       "      <th>Aeroporto Destino Pais</th>\n",
       "      <th>Aeroporto Destino Continente</th>\n",
       "      <th>Natureza</th>\n",
       "      <th>...</th>\n",
       "      <th>Carga Gratis</th>\n",
       "      <th>Correio</th>\n",
       "      <th>Distancia</th>\n",
       "      <th>Decolagens</th>\n",
       "      <th>Assentos</th>\n",
       "      <th>Payload</th>\n",
       "      <th>Passageiros Totais</th>\n",
       "      <th>Carga Total</th>\n",
       "      <th>Assentos Preenchidos</th>\n",
       "      <th>Ano Mes</th>\n",
       "    </tr>\n",
       "  </thead>\n",
       "  <tbody>\n",
       "    <tr>\n",
       "      <th>0</th>\n",
       "      <td>AAL</td>\n",
       "      <td>2000</td>\n",
       "      <td>1</td>\n",
       "      <td>KDFW</td>\n",
       "      <td>ESTADOS UNIDOS</td>\n",
       "      <td>AMÉRICA DO NORTE</td>\n",
       "      <td>SBGR</td>\n",
       "      <td>BRASIL</td>\n",
       "      <td>AMÉRICA DO SUL</td>\n",
       "      <td>Internacional</td>\n",
       "      <td>...</td>\n",
       "      <td>0.0</td>\n",
       "      <td>73.0</td>\n",
       "      <td>246750.0</td>\n",
       "      <td>30.0</td>\n",
       "      <td>6330.0</td>\n",
       "      <td>1050000.0</td>\n",
       "      <td>4074.0</td>\n",
       "      <td>97876.0</td>\n",
       "      <td>0.643602</td>\n",
       "      <td>200001</td>\n",
       "    </tr>\n",
       "    <tr>\n",
       "      <th>1</th>\n",
       "      <td>AAL</td>\n",
       "      <td>2000</td>\n",
       "      <td>1</td>\n",
       "      <td>KJFK</td>\n",
       "      <td>ESTADOS UNIDOS</td>\n",
       "      <td>AMÉRICA DO NORTE</td>\n",
       "      <td>SBGL</td>\n",
       "      <td>BRASIL</td>\n",
       "      <td>AMÉRICA DO SUL</td>\n",
       "      <td>Internacional</td>\n",
       "      <td>...</td>\n",
       "      <td>0.0</td>\n",
       "      <td>8034.0</td>\n",
       "      <td>223068.0</td>\n",
       "      <td>29.0</td>\n",
       "      <td>6119.0</td>\n",
       "      <td>464000.0</td>\n",
       "      <td>2469.0</td>\n",
       "      <td>48066.0</td>\n",
       "      <td>0.403497</td>\n",
       "      <td>200001</td>\n",
       "    </tr>\n",
       "    <tr>\n",
       "      <th>2</th>\n",
       "      <td>AAL</td>\n",
       "      <td>2000</td>\n",
       "      <td>1</td>\n",
       "      <td>KJFK</td>\n",
       "      <td>ESTADOS UNIDOS</td>\n",
       "      <td>AMÉRICA DO NORTE</td>\n",
       "      <td>SBGR</td>\n",
       "      <td>BRASIL</td>\n",
       "      <td>AMÉRICA DO SUL</td>\n",
       "      <td>Internacional</td>\n",
       "      <td>...</td>\n",
       "      <td>0.0</td>\n",
       "      <td>1980.0</td>\n",
       "      <td>221444.0</td>\n",
       "      <td>29.0</td>\n",
       "      <td>6119.0</td>\n",
       "      <td>1015000.0</td>\n",
       "      <td>3019.0</td>\n",
       "      <td>194997.0</td>\n",
       "      <td>0.493381</td>\n",
       "      <td>200001</td>\n",
       "    </tr>\n",
       "    <tr>\n",
       "      <th>3</th>\n",
       "      <td>AAL</td>\n",
       "      <td>2000</td>\n",
       "      <td>1</td>\n",
       "      <td>KMIA</td>\n",
       "      <td>ESTADOS UNIDOS</td>\n",
       "      <td>AMÉRICA DO NORTE</td>\n",
       "      <td>SBCF</td>\n",
       "      <td>BRASIL</td>\n",
       "      <td>AMÉRICA DO SUL</td>\n",
       "      <td>Internacional</td>\n",
       "      <td>...</td>\n",
       "      <td>948.0</td>\n",
       "      <td>3129.0</td>\n",
       "      <td>26748.0</td>\n",
       "      <td>4.0</td>\n",
       "      <td>0.0</td>\n",
       "      <td>0.0</td>\n",
       "      <td>634.0</td>\n",
       "      <td>21102.0</td>\n",
       "      <td>0.852856</td>\n",
       "      <td>200001</td>\n",
       "    </tr>\n",
       "    <tr>\n",
       "      <th>4</th>\n",
       "      <td>AAL</td>\n",
       "      <td>2000</td>\n",
       "      <td>1</td>\n",
       "      <td>KMIA</td>\n",
       "      <td>ESTADOS UNIDOS</td>\n",
       "      <td>AMÉRICA DO NORTE</td>\n",
       "      <td>SBGL</td>\n",
       "      <td>BRASIL</td>\n",
       "      <td>AMÉRICA DO SUL</td>\n",
       "      <td>Internacional</td>\n",
       "      <td>...</td>\n",
       "      <td>5974.0</td>\n",
       "      <td>31215.0</td>\n",
       "      <td>180549.0</td>\n",
       "      <td>27.0</td>\n",
       "      <td>5486.0</td>\n",
       "      <td>910000.0</td>\n",
       "      <td>4105.0</td>\n",
       "      <td>106707.0</td>\n",
       "      <td>0.748268</td>\n",
       "      <td>200001</td>\n",
       "    </tr>\n",
       "  </tbody>\n",
       "</table>\n",
       "<p>5 rows × 24 columns</p>\n",
       "</div>"
      ],
      "text/plain": [
       "  Empresa   Ano  Mes Aeroporto Origem Aeroporto Origem Pais  \\\n",
       "0     AAL  2000    1             KDFW        ESTADOS UNIDOS   \n",
       "1     AAL  2000    1             KJFK        ESTADOS UNIDOS   \n",
       "2     AAL  2000    1             KJFK        ESTADOS UNIDOS   \n",
       "3     AAL  2000    1             KMIA        ESTADOS UNIDOS   \n",
       "4     AAL  2000    1             KMIA        ESTADOS UNIDOS   \n",
       "\n",
       "  Aeroporto Origem Continente Aeroporto Destino Aeroporto Destino Pais  \\\n",
       "0            AMÉRICA DO NORTE              SBGR                 BRASIL   \n",
       "1            AMÉRICA DO NORTE              SBGL                 BRASIL   \n",
       "2            AMÉRICA DO NORTE              SBGR                 BRASIL   \n",
       "3            AMÉRICA DO NORTE              SBCF                 BRASIL   \n",
       "4            AMÉRICA DO NORTE              SBGL                 BRASIL   \n",
       "\n",
       "  Aeroporto Destino Continente       Natureza   ...    Carga Gratis  Correio  \\\n",
       "0               AMÉRICA DO SUL  Internacional   ...             0.0     73.0   \n",
       "1               AMÉRICA DO SUL  Internacional   ...             0.0   8034.0   \n",
       "2               AMÉRICA DO SUL  Internacional   ...             0.0   1980.0   \n",
       "3               AMÉRICA DO SUL  Internacional   ...           948.0   3129.0   \n",
       "4               AMÉRICA DO SUL  Internacional   ...          5974.0  31215.0   \n",
       "\n",
       "   Distancia  Decolagens  Assentos    Payload  Passageiros Totais  \\\n",
       "0   246750.0        30.0    6330.0  1050000.0              4074.0   \n",
       "1   223068.0        29.0    6119.0   464000.0              2469.0   \n",
       "2   221444.0        29.0    6119.0  1015000.0              3019.0   \n",
       "3    26748.0         4.0       0.0        0.0               634.0   \n",
       "4   180549.0        27.0    5486.0   910000.0              4105.0   \n",
       "\n",
       "   Carga Total  Assentos Preenchidos  Ano Mes  \n",
       "0      97876.0              0.643602   200001  \n",
       "1      48066.0              0.403497   200001  \n",
       "2     194997.0              0.493381   200001  \n",
       "3      21102.0              0.852856   200001  \n",
       "4     106707.0              0.748268   200001  \n",
       "\n",
       "[5 rows x 24 columns]"
      ]
     },
     "execution_count": 3,
     "metadata": {},
     "output_type": "execute_result"
    }
   ],
   "source": [
    "flights.head(5)"
   ]
  },
  {
   "cell_type": "code",
   "execution_count": 4,
   "metadata": {
    "collapsed": true
   },
   "outputs": [],
   "source": [
    "# Aeroportos\n",
    "aerodromes = pd.read_csv('../aerodrome.csv', header=0, engine='python', encoding='utf-8')"
   ]
  },
  {
   "cell_type": "code",
   "execution_count": 5,
   "metadata": {},
   "outputs": [
    {
     "data": {
      "text/html": [
       "<div>\n",
       "<style>\n",
       "    .dataframe thead tr:only-child th {\n",
       "        text-align: right;\n",
       "    }\n",
       "\n",
       "    .dataframe thead th {\n",
       "        text-align: left;\n",
       "    }\n",
       "\n",
       "    .dataframe tbody tr th {\n",
       "        vertical-align: top;\n",
       "    }\n",
       "</style>\n",
       "<table border=\"1\" class=\"dataframe\">\n",
       "  <thead>\n",
       "    <tr style=\"text-align: right;\">\n",
       "      <th></th>\n",
       "      <th>Sigla</th>\n",
       "      <th>Nome</th>\n",
       "      <th>Pais</th>\n",
       "      <th>Continente</th>\n",
       "    </tr>\n",
       "  </thead>\n",
       "  <tbody>\n",
       "    <tr>\n",
       "      <th>0</th>\n",
       "      <td>KDFW</td>\n",
       "      <td>DALLAS/FORT WORTH</td>\n",
       "      <td>ESTADOS UNIDOS</td>\n",
       "      <td>AMÉRICA DO NORTE</td>\n",
       "    </tr>\n",
       "    <tr>\n",
       "      <th>1</th>\n",
       "      <td>KJFK</td>\n",
       "      <td>NEW YORK</td>\n",
       "      <td>ESTADOS UNIDOS</td>\n",
       "      <td>AMÉRICA DO NORTE</td>\n",
       "    </tr>\n",
       "    <tr>\n",
       "      <th>2</th>\n",
       "      <td>KMIA</td>\n",
       "      <td>MIAMI</td>\n",
       "      <td>ESTADOS UNIDOS</td>\n",
       "      <td>AMÉRICA DO NORTE</td>\n",
       "    </tr>\n",
       "    <tr>\n",
       "      <th>3</th>\n",
       "      <td>SBCF</td>\n",
       "      <td>BELO HORIZONTE - CONFINS</td>\n",
       "      <td>BRASIL</td>\n",
       "      <td>AMÉRICA DO SUL</td>\n",
       "    </tr>\n",
       "    <tr>\n",
       "      <th>4</th>\n",
       "      <td>SBGL</td>\n",
       "      <td>RIO DE JANEIRO - GALEÃO</td>\n",
       "      <td>BRASIL</td>\n",
       "      <td>AMÉRICA DO SUL</td>\n",
       "    </tr>\n",
       "  </tbody>\n",
       "</table>\n",
       "</div>"
      ],
      "text/plain": [
       "  Sigla                      Nome            Pais        Continente\n",
       "0  KDFW         DALLAS/FORT WORTH  ESTADOS UNIDOS  AMÉRICA DO NORTE\n",
       "1  KJFK                  NEW YORK  ESTADOS UNIDOS  AMÉRICA DO NORTE\n",
       "2  KMIA                     MIAMI  ESTADOS UNIDOS  AMÉRICA DO NORTE\n",
       "3  SBCF  BELO HORIZONTE - CONFINS          BRASIL    AMÉRICA DO SUL\n",
       "4  SBGL   RIO DE JANEIRO - GALEÃO          BRASIL    AMÉRICA DO SUL"
      ]
     },
     "execution_count": 5,
     "metadata": {},
     "output_type": "execute_result"
    }
   ],
   "source": [
    "#\n",
    "aerodromes.head()"
   ]
  },
  {
   "cell_type": "code",
   "execution_count": 6,
   "metadata": {},
   "outputs": [
    {
     "data": {
      "text/plain": [
       "count      962\n",
       "unique     962\n",
       "top       DABT\n",
       "freq         1\n",
       "Name: Sigla, dtype: object"
      ]
     },
     "execution_count": 6,
     "metadata": {},
     "output_type": "execute_result"
    }
   ],
   "source": [
    "# 962 Aerodromos\n",
    "aerodromes['Sigla'].describe(include=['category'])"
   ]
  },
  {
   "cell_type": "code",
   "execution_count": 7,
   "metadata": {},
   "outputs": [
    {
     "data": {
      "text/plain": [
       "count        950\n",
       "unique       130\n",
       "top       BRASIL\n",
       "freq         447\n",
       "Name: Pais, dtype: object"
      ]
     },
     "execution_count": 7,
     "metadata": {},
     "output_type": "execute_result"
    }
   ],
   "source": [
    "# 130 Paises\n",
    "aerodromes['Pais'].describe(include=['category'])"
   ]
  },
  {
   "cell_type": "code",
   "execution_count": 8,
   "metadata": {
    "collapsed": true
   },
   "outputs": [],
   "source": [
    "########################################################"
   ]
  },
  {
   "cell_type": "code",
   "execution_count": 9,
   "metadata": {
    "collapsed": true
   },
   "outputs": [],
   "source": [
    "# Empresas Aereas"
   ]
  },
  {
   "cell_type": "code",
   "execution_count": 10,
   "metadata": {},
   "outputs": [
    {
     "data": {
      "text/plain": [
       "count     781305\n",
       "unique       214\n",
       "top          GLO\n",
       "freq      139581\n",
       "Name: Empresa, dtype: object"
      ]
     },
     "execution_count": 10,
     "metadata": {},
     "output_type": "execute_result"
    }
   ],
   "source": [
    "# Sao 214 empresas aereas\n",
    "flights['Empresa'].describe(include=['category'])"
   ]
  },
  {
   "cell_type": "code",
   "execution_count": 11,
   "metadata": {},
   "outputs": [
    {
     "data": {
      "text/plain": [
       "Empresa\n",
       "TAM    4.479720e+06\n",
       "GLO    4.425716e+06\n",
       "AZU    1.419631e+06\n",
       "VRG    1.136518e+06\n",
       "TIB    8.000445e+05\n",
       "ONE    6.545983e+05\n",
       "VSP    5.040054e+05\n",
       "RSL    3.594166e+05\n",
       "PTB    3.140649e+05\n",
       "NES    2.228132e+05\n",
       "Name: Decolagens, dtype: float64"
      ]
     },
     "execution_count": 11,
     "metadata": {},
     "output_type": "execute_result"
    }
   ],
   "source": [
    "# É interessante notar que a varig, mesmo nao existindo mais, ainda esta em quarto lugar de mais decolagens\n",
    "total_flights = flights.groupby('Empresa').Decolagens.sum()\n",
    "total_flights.nlargest(10)"
   ]
  },
  {
   "cell_type": "code",
   "execution_count": 12,
   "metadata": {},
   "outputs": [
    {
     "data": {
      "text/plain": [
       "0.65234233674942865"
      ]
     },
     "execution_count": 12,
     "metadata": {},
     "output_type": "execute_result"
    }
   ],
   "source": [
    "# As empresas TAM, GOL, AZUL e VARIG representam 65,2% do total de viagens no periodo\n",
    "total = flights['Decolagens'].sum()\n",
    "biggest_companies = total_flights['TAM'] + total_flights['GLO'] + total_flights['AZU'] + total_flights['VRG']\n",
    "biggest_companies/total"
   ]
  },
  {
   "cell_type": "code",
   "execution_count": 13,
   "metadata": {},
   "outputs": [
    {
     "data": {
      "text/plain": [
       "Empresa\n",
       "TAM    4.080088e+08\n",
       "GLO    3.488219e+08\n",
       "AZU    9.750787e+07\n",
       "VRG    7.402354e+07\n",
       "ONE    4.641281e+07\n",
       "TIB    2.253758e+07\n",
       "AAL    1.869503e+07\n",
       "WEB    1.814568e+07\n",
       "TAP    1.769515e+07\n",
       "VSP    1.702968e+07\n",
       "Name: Passageiros Pagos, dtype: float64"
      ]
     },
     "execution_count": 13,
     "metadata": {},
     "output_type": "execute_result"
    }
   ],
   "source": [
    "# Quanto ao número de passageiros\n",
    "passengers = flights.groupby('Empresa')['Passageiros Pagos'].sum()\n",
    "passengers.nlargest(10)"
   ]
  },
  {
   "cell_type": "code",
   "execution_count": 14,
   "metadata": {},
   "outputs": [
    {
     "data": {
      "text/plain": [
       "0.74573102430618121"
      ]
     },
     "execution_count": 14,
     "metadata": {},
     "output_type": "execute_result"
    }
   ],
   "source": [
    "# Quanto ao numero de passageiros, essa % aumenta para 74,6%, quase 1/4 do numero de passageiros transportados\n",
    "total_passengers = flights['Passageiros Pagos'].sum()\n",
    "top_passengers = passengers['TAM'] + passengers['GLO'] + passengers['AZU'] + passengers['VRG']\n",
    "top_passengers/total_passengers"
   ]
  },
  {
   "cell_type": "code",
   "execution_count": 15,
   "metadata": {},
   "outputs": [
    {
     "data": {
      "text/plain": [
       "Empresa\n",
       "TAM    287777.098831\n",
       "GLO    253142.007152\n",
       "VRG    213122.994127\n",
       "AAL    120732.000000\n",
       "ARG     88754.000000\n",
       "TAP     87911.000000\n",
       "LAP     70082.000000\n",
       "CMP     59076.000000\n",
       "UAL     55032.000000\n",
       "LAN     52693.000000\n",
       "Name: Decolagens, dtype: float64"
      ]
     },
     "execution_count": 15,
     "metadata": {},
     "output_type": "execute_result"
    }
   ],
   "source": [
    "# No quesito viagens internacionais\n",
    "international_flights = flights[flights['Natureza'] == 'Internacional'].groupby('Empresa').Decolagens.sum()\n",
    "international_flights.nlargest(10)"
   ]
  },
  {
   "cell_type": "code",
   "execution_count": 16,
   "metadata": {},
   "outputs": [
    {
     "data": {
      "text/plain": [
       "0.42009065318634331"
      ]
     },
     "execution_count": 16,
     "metadata": {},
     "output_type": "execute_result"
    }
   ],
   "source": [
    "# As empresas TAM, GOL, VARIG e American Airlines representam 42,0% do total de viagens no periodo\n",
    "international_total = flights[flights['Natureza'] == 'Internacional']['Decolagens'].sum()\n",
    "international_biggest_companies = international_flights['TAM'] + international_flights['GLO'] + international_flights['VRG'] + international_flights['AAL']\n",
    "international_biggest_companies/international_total"
   ]
  },
  {
   "cell_type": "code",
   "execution_count": 17,
   "metadata": {},
   "outputs": [
    {
     "data": {
      "text/plain": [
       "Empresa\n",
       "TAM    4.301775e+07\n",
       "VRG    2.020767e+07\n",
       "AAL    1.869503e+07\n",
       "TAP    1.769515e+07\n",
       "GLO    1.637972e+07\n",
       "AFR    9.192410e+06\n",
       "ARG    7.468255e+06\n",
       "UAL    7.137576e+06\n",
       "DAL    6.901374e+06\n",
       "IBE    6.616464e+06\n",
       "Name: Passageiros Pagos, dtype: float64"
      ]
     },
     "execution_count": 17,
     "metadata": {},
     "output_type": "execute_result"
    }
   ],
   "source": [
    "# Quanto ao número de passageiros internacionais\n",
    "intl_passengers = flights[flights['Natureza'] == 'Internacional'].groupby('Empresa')['Passageiros Pagos'].sum()\n",
    "intl_passengers.nlargest(10)"
   ]
  },
  {
   "cell_type": "code",
   "execution_count": 18,
   "metadata": {},
   "outputs": [
    {
     "data": {
      "image/png": "[encoded data removed]",
      "text/plain": [
       "<matplotlib.figure.Figure at 0x1b05e2ed4e0>"
      ]
     },
     "metadata": {},
     "output_type": "display_data"
    }
   ],
   "source": [
    "ax = sns.boxplot(x='Natureza', y='Assentos Preenchidos', data=flights)\n",
    "plt.show()"
   ]
  },
  {
   "cell_type": "code",
   "execution_count": 46,
   "metadata": {},
   "outputs": [
    {
     "data": {
      "image/png": "[encoded data removed]",
      "text/plain": [
       "<matplotlib.figure.Figure at 0x1b05fe98320>"
      ]
     },
     "metadata": {},
     "output_type": "display_data"
    }
   ],
   "source": [
    "ax = sns.barplot(x='Mes', y='Assentos Preenchidos', data=flights[flights['Ano'] == 2000])\n",
    "plt.title('Média de Assentos 2000')\n",
    "plt.ylabel('')\n",
    "plt.ylim(0, 0.7)\n",
    "plt.show()"
   ]
  },
  {
   "cell_type": "code",
   "execution_count": 47,
   "metadata": {},
   "outputs": [],
   "source": [
    "# Salvar plot um para cada ano\n",
    "year_list = flights['Ano'].unique()\n",
    "for i in year_list:\n",
    "    plt.title('Média de Assentos {0}'.format(i))\n",
    "    plt.ylabel('')\n",
    "    plt.ylim(0, 0.7)\n",
    "    ax = sns.barplot(x='Mes', y='Assentos Preenchidos', data=flights[flights['Ano'] == i])\n",
    "    fig = ax.get_figure()\n",
    "    fig.savefig('plots/Assentos-{0}.jpg'.format(i))"
   ]
  }
 ],
 "metadata": {
  "kernelspec": {
   "display_name": "Python 3",
   "language": "python",
   "name": "python3"
  },
  "language_info": {
   "codemirror_mode": {
    "name": "ipython",
    "version": 3
   },
   "file_extension": ".py",
   "mimetype": "text/x-python",
   "name": "python",
   "nbconvert_exporter": "python",
   "pygments_lexer": "ipython3",
   "version": "3.6.1"
  }
 },
 "nbformat": 4,
 "nbformat_minor": 2
}
