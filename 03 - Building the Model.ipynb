{
 "cells": [
  {
   "cell_type": "code",
   "execution_count": 1,
   "metadata": {
    "collapsed": true
   },
   "outputs": [],
   "source": [
    "import pandas as pd\n",
    "import numpy as np\n",
    "import matplotlib.pyplot as plt"
   ]
  },
  {
   "cell_type": "code",
   "execution_count": 2,
   "metadata": {
    "collapsed": true
   },
   "outputs": [],
   "source": [
    "original_dataset = pd.read_csv('../flights_prepared.csv', header=0, engine='python', encoding='utf-8')"
   ]
  },
  {
   "cell_type": "code",
   "execution_count": 3,
   "metadata": {},
   "outputs": [
    {
     "data": {
      "text/html": [
       "<div>\n",
       "<style>\n",
       "    .dataframe thead tr:only-child th {\n",
       "        text-align: right;\n",
       "    }\n",
       "\n",
       "    .dataframe thead th {\n",
       "        text-align: left;\n",
       "    }\n",
       "\n",
       "    .dataframe tbody tr th {\n",
       "        vertical-align: top;\n",
       "    }\n",
       "</style>\n",
       "<table border=\"1\" class=\"dataframe\">\n",
       "  <thead>\n",
       "    <tr style=\"text-align: right;\">\n",
       "      <th></th>\n",
       "      <th>Empresa</th>\n",
       "      <th>Ano</th>\n",
       "      <th>Mes</th>\n",
       "      <th>Aeroporto Origem</th>\n",
       "      <th>Aeroporto Origem Pais</th>\n",
       "      <th>Aeroporto Origem Continente</th>\n",
       "      <th>Aeroporto Destino</th>\n",
       "      <th>Aeroporto Destino Pais</th>\n",
       "      <th>Aeroporto Destino Continente</th>\n",
       "      <th>Natureza</th>\n",
       "      <th>...</th>\n",
       "      <th>Carga Gratis</th>\n",
       "      <th>Correio</th>\n",
       "      <th>Distancia</th>\n",
       "      <th>Decolagens</th>\n",
       "      <th>Assentos</th>\n",
       "      <th>Payload</th>\n",
       "      <th>Passageiros Totais</th>\n",
       "      <th>Carga Total</th>\n",
       "      <th>Assentos Preenchidos</th>\n",
       "      <th>Ano Mes</th>\n",
       "    </tr>\n",
       "  </thead>\n",
       "  <tbody>\n",
       "    <tr>\n",
       "      <th>0</th>\n",
       "      <td>AAL</td>\n",
       "      <td>2000</td>\n",
       "      <td>1</td>\n",
       "      <td>KDFW</td>\n",
       "      <td>ESTADOS UNIDOS</td>\n",
       "      <td>AMÉRICA DO NORTE</td>\n",
       "      <td>SBGR</td>\n",
       "      <td>BRASIL</td>\n",
       "      <td>AMÉRICA DO SUL</td>\n",
       "      <td>Internacional</td>\n",
       "      <td>...</td>\n",
       "      <td>0.0</td>\n",
       "      <td>73.0</td>\n",
       "      <td>246750.0</td>\n",
       "      <td>30.0</td>\n",
       "      <td>6330.0</td>\n",
       "      <td>1050000.0</td>\n",
       "      <td>4074.0</td>\n",
       "      <td>97876.0</td>\n",
       "      <td>0.643602</td>\n",
       "      <td>200001</td>\n",
       "    </tr>\n",
       "    <tr>\n",
       "      <th>1</th>\n",
       "      <td>AAL</td>\n",
       "      <td>2000</td>\n",
       "      <td>1</td>\n",
       "      <td>KJFK</td>\n",
       "      <td>ESTADOS UNIDOS</td>\n",
       "      <td>AMÉRICA DO NORTE</td>\n",
       "      <td>SBGL</td>\n",
       "      <td>BRASIL</td>\n",
       "      <td>AMÉRICA DO SUL</td>\n",
       "      <td>Internacional</td>\n",
       "      <td>...</td>\n",
       "      <td>0.0</td>\n",
       "      <td>8034.0</td>\n",
       "      <td>223068.0</td>\n",
       "      <td>29.0</td>\n",
       "      <td>6119.0</td>\n",
       "      <td>464000.0</td>\n",
       "      <td>2469.0</td>\n",
       "      <td>48066.0</td>\n",
       "      <td>0.403497</td>\n",
       "      <td>200001</td>\n",
       "    </tr>\n",
       "    <tr>\n",
       "      <th>2</th>\n",
       "      <td>AAL</td>\n",
       "      <td>2000</td>\n",
       "      <td>1</td>\n",
       "      <td>KJFK</td>\n",
       "      <td>ESTADOS UNIDOS</td>\n",
       "      <td>AMÉRICA DO NORTE</td>\n",
       "      <td>SBGR</td>\n",
       "      <td>BRASIL</td>\n",
       "      <td>AMÉRICA DO SUL</td>\n",
       "      <td>Internacional</td>\n",
       "      <td>...</td>\n",
       "      <td>0.0</td>\n",
       "      <td>1980.0</td>\n",
       "      <td>221444.0</td>\n",
       "      <td>29.0</td>\n",
       "      <td>6119.0</td>\n",
       "      <td>1015000.0</td>\n",
       "      <td>3019.0</td>\n",
       "      <td>194997.0</td>\n",
       "      <td>0.493381</td>\n",
       "      <td>200001</td>\n",
       "    </tr>\n",
       "    <tr>\n",
       "      <th>3</th>\n",
       "      <td>AAL</td>\n",
       "      <td>2000</td>\n",
       "      <td>1</td>\n",
       "      <td>KMIA</td>\n",
       "      <td>ESTADOS UNIDOS</td>\n",
       "      <td>AMÉRICA DO NORTE</td>\n",
       "      <td>SBCF</td>\n",
       "      <td>BRASIL</td>\n",
       "      <td>AMÉRICA DO SUL</td>\n",
       "      <td>Internacional</td>\n",
       "      <td>...</td>\n",
       "      <td>948.0</td>\n",
       "      <td>3129.0</td>\n",
       "      <td>26748.0</td>\n",
       "      <td>4.0</td>\n",
       "      <td>0.0</td>\n",
       "      <td>0.0</td>\n",
       "      <td>634.0</td>\n",
       "      <td>21102.0</td>\n",
       "      <td>0.852856</td>\n",
       "      <td>200001</td>\n",
       "    </tr>\n",
       "    <tr>\n",
       "      <th>4</th>\n",
       "      <td>AAL</td>\n",
       "      <td>2000</td>\n",
       "      <td>1</td>\n",
       "      <td>KMIA</td>\n",
       "      <td>ESTADOS UNIDOS</td>\n",
       "      <td>AMÉRICA DO NORTE</td>\n",
       "      <td>SBGL</td>\n",
       "      <td>BRASIL</td>\n",
       "      <td>AMÉRICA DO SUL</td>\n",
       "      <td>Internacional</td>\n",
       "      <td>...</td>\n",
       "      <td>5974.0</td>\n",
       "      <td>31215.0</td>\n",
       "      <td>180549.0</td>\n",
       "      <td>27.0</td>\n",
       "      <td>5486.0</td>\n",
       "      <td>910000.0</td>\n",
       "      <td>4105.0</td>\n",
       "      <td>106707.0</td>\n",
       "      <td>0.748268</td>\n",
       "      <td>200001</td>\n",
       "    </tr>\n",
       "  </tbody>\n",
       "</table>\n",
       "<p>5 rows × 24 columns</p>\n",
       "</div>"
      ],
      "text/plain": [
       "  Empresa   Ano  Mes Aeroporto Origem Aeroporto Origem Pais  \\\n",
       "0     AAL  2000    1             KDFW        ESTADOS UNIDOS   \n",
       "1     AAL  2000    1             KJFK        ESTADOS UNIDOS   \n",
       "2     AAL  2000    1             KJFK        ESTADOS UNIDOS   \n",
       "3     AAL  2000    1             KMIA        ESTADOS UNIDOS   \n",
       "4     AAL  2000    1             KMIA        ESTADOS UNIDOS   \n",
       "\n",
       "  Aeroporto Origem Continente Aeroporto Destino Aeroporto Destino Pais  \\\n",
       "0            AMÉRICA DO NORTE              SBGR                 BRASIL   \n",
       "1            AMÉRICA DO NORTE              SBGL                 BRASIL   \n",
       "2            AMÉRICA DO NORTE              SBGR                 BRASIL   \n",
       "3            AMÉRICA DO NORTE              SBCF                 BRASIL   \n",
       "4            AMÉRICA DO NORTE              SBGL                 BRASIL   \n",
       "\n",
       "  Aeroporto Destino Continente       Natureza   ...    Carga Gratis  Correio  \\\n",
       "0               AMÉRICA DO SUL  Internacional   ...             0.0     73.0   \n",
       "1               AMÉRICA DO SUL  Internacional   ...             0.0   8034.0   \n",
       "2               AMÉRICA DO SUL  Internacional   ...             0.0   1980.0   \n",
       "3               AMÉRICA DO SUL  Internacional   ...           948.0   3129.0   \n",
       "4               AMÉRICA DO SUL  Internacional   ...          5974.0  31215.0   \n",
       "\n",
       "   Distancia  Decolagens  Assentos    Payload  Passageiros Totais  \\\n",
       "0   246750.0        30.0    6330.0  1050000.0              4074.0   \n",
       "1   223068.0        29.0    6119.0   464000.0              2469.0   \n",
       "2   221444.0        29.0    6119.0  1015000.0              3019.0   \n",
       "3    26748.0         4.0       0.0        0.0               634.0   \n",
       "4   180549.0        27.0    5486.0   910000.0              4105.0   \n",
       "\n",
       "   Carga Total  Assentos Preenchidos  Ano Mes  \n",
       "0      97876.0              0.643602   200001  \n",
       "1      48066.0              0.403497   200001  \n",
       "2     194997.0              0.493381   200001  \n",
       "3      21102.0              0.852856   200001  \n",
       "4     106707.0              0.748268   200001  \n",
       "\n",
       "[5 rows x 24 columns]"
      ]
     },
     "execution_count": 3,
     "metadata": {},
     "output_type": "execute_result"
    }
   ],
   "source": [
    "original_dataset.head()"
   ]
  },
  {
   "cell_type": "code",
   "execution_count": 7,
   "metadata": {
    "collapsed": true
   },
   "outputs": [],
   "source": [
    "dataset = original_dataset[['Empresa', 'Aeroporto Origem', 'Aeroporto Destino', 'Natureza', 'Ano Mes', 'Assentos Preenchidos']]\n",
    "X = dataset.iloc[:, :-1]\n",
    "y = dataset.iloc[:, 5]"
   ]
  },
  {
   "cell_type": "code",
   "execution_count": 8,
   "metadata": {},
   "outputs": [
    {
     "data": {
      "text/html": [
       "<div>\n",
       "<style>\n",
       "    .dataframe thead tr:only-child th {\n",
       "        text-align: right;\n",
       "    }\n",
       "\n",
       "    .dataframe thead th {\n",
       "        text-align: left;\n",
       "    }\n",
       "\n",
       "    .dataframe tbody tr th {\n",
       "        vertical-align: top;\n",
       "    }\n",
       "</style>\n",
       "<table border=\"1\" class=\"dataframe\">\n",
       "  <thead>\n",
       "    <tr style=\"text-align: right;\">\n",
       "      <th></th>\n",
       "      <th>Empresa</th>\n",
       "      <th>Aeroporto Origem</th>\n",
       "      <th>Aeroporto Destino</th>\n",
       "      <th>Natureza</th>\n",
       "      <th>Ano Mes</th>\n",
       "    </tr>\n",
       "  </thead>\n",
       "  <tbody>\n",
       "    <tr>\n",
       "      <th>0</th>\n",
       "      <td>1</td>\n",
       "      <td>138</td>\n",
       "      <td>418</td>\n",
       "      <td>1</td>\n",
       "      <td>0</td>\n",
       "    </tr>\n",
       "    <tr>\n",
       "      <th>1</th>\n",
       "      <td>1</td>\n",
       "      <td>155</td>\n",
       "      <td>414</td>\n",
       "      <td>1</td>\n",
       "      <td>0</td>\n",
       "    </tr>\n",
       "    <tr>\n",
       "      <th>2</th>\n",
       "      <td>1</td>\n",
       "      <td>155</td>\n",
       "      <td>418</td>\n",
       "      <td>1</td>\n",
       "      <td>0</td>\n",
       "    </tr>\n",
       "    <tr>\n",
       "      <th>3</th>\n",
       "      <td>1</td>\n",
       "      <td>169</td>\n",
       "      <td>387</td>\n",
       "      <td>1</td>\n",
       "      <td>0</td>\n",
       "    </tr>\n",
       "    <tr>\n",
       "      <th>4</th>\n",
       "      <td>1</td>\n",
       "      <td>169</td>\n",
       "      <td>414</td>\n",
       "      <td>1</td>\n",
       "      <td>0</td>\n",
       "    </tr>\n",
       "  </tbody>\n",
       "</table>\n",
       "</div>"
      ],
      "text/plain": [
       "   Empresa  Aeroporto Origem  Aeroporto Destino  Natureza  Ano Mes\n",
       "0        1               138                418         1        0\n",
       "1        1               155                414         1        0\n",
       "2        1               155                418         1        0\n",
       "3        1               169                387         1        0\n",
       "4        1               169                414         1        0"
      ]
     },
     "execution_count": 8,
     "metadata": {},
     "output_type": "execute_result"
    }
   ],
   "source": [
    "# Encoding categorical data\n",
    "# Encoding the Independent Variable\n",
    "from sklearn.preprocessing import LabelEncoder, OneHotEncoder\n",
    "le = LabelEncoder()\n",
    "X_2 = X.apply(le.fit_transform)\n",
    "X_2.head()"
   ]
  },
  {
   "cell_type": "code",
   "execution_count": 9,
   "metadata": {},
   "outputs": [
    {
     "data": {
      "text/plain": [
       "(781305, 2224)"
      ]
     },
     "execution_count": 9,
     "metadata": {},
     "output_type": "execute_result"
    }
   ],
   "source": [
    "encoder = OneHotEncoder()\n",
    "\n",
    "encoder.fit(X_2)\n",
    "\n",
    "labels = encoder.transform(X_2).toarray()\n",
    "labels.shape"
   ]
  },
  {
   "cell_type": "code",
   "execution_count": 10,
   "metadata": {},
   "outputs": [],
   "source": [
    "from sklearn.cross_validation import train_test_split\n",
    "X_train, X_test, y_train, y_test = train_test_split(X_2, y, test_size = 0.2, random_state = 0)"
   ]
  },
  {
   "cell_type": "code",
   "execution_count": 33,
   "metadata": {},
   "outputs": [],
   "source": [
    "from sklearn.ensemble import RandomForestRegressor\n",
    "regressor = RandomForestRegressor(n_estimators = 10, random_state = 0)\n",
    "regressor.fit(X_train, y_train)\n",
    "\n",
    "y_pred = regressor.predict(X_test)"
   ]
  },
  {
   "cell_type": "code",
   "execution_count": 24,
   "metadata": {},
   "outputs": [
    {
     "data": {
      "text/plain": [
       "array([ 0.99259259,  0.85198288,  0.97375297, ...,  0.89064778,\n",
       "        0.57568108,  0.86059238])"
      ]
     },
     "execution_count": 24,
     "metadata": {},
     "output_type": "execute_result"
    }
   ],
   "source": [
    "y_pred"
   ]
  },
  {
   "cell_type": "code",
   "execution_count": 34,
   "metadata": {},
   "outputs": [
    {
     "data": {
      "text/plain": [
       "0.267852787878462"
      ]
     },
     "execution_count": 34,
     "metadata": {},
     "output_type": "execute_result"
    }
   ],
   "source": [
    "from sklearn.metrics import mean_squared_error\n",
    "from math import sqrt\n",
    "\n",
    "rms = sqrt(mean_squared_error(y_test, y_pred))\n",
    "rms"
   ]
  },
  {
   "cell_type": "code",
   "execution_count": null,
   "metadata": {
    "collapsed": true
   },
   "outputs": [],
   "source": []
  }
 ],
 "metadata": {
  "kernelspec": {
   "display_name": "Python 3",
   "language": "python",
   "name": "python3"
  },
  "language_info": {
   "codemirror_mode": {
    "name": "ipython",
    "version": 3
   },
   "file_extension": ".py",
   "mimetype": "text/x-python",
   "name": "python",
   "nbconvert_exporter": "python",
   "pygments_lexer": "ipython3",
   "version": "3.6.1"
  }
 },
 "nbformat": 4,
 "nbformat_minor": 2
}
